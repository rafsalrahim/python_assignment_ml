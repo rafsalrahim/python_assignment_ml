{
 "cells": [
  {
   "cell_type": "code",
   "execution_count": 68,
   "metadata": {},
   "outputs": [],
   "source": [
    "# import the serious stuff\n",
    "import csv\n",
    "import random"
   ]
  },
  {
   "cell_type": "code",
   "execution_count": 69,
   "metadata": {},
   "outputs": [],
   "source": [
    "# get input file\n",
    "raw_dataset_file = open(\"dataset_raw.csv\", \"r\")\n",
    "raw_dataset = csv.reader(raw_dataset_file)"
   ]
  },
  {
   "cell_type": "code",
   "execution_count": 70,
   "metadata": {},
   "outputs": [],
   "source": [
    "# setup the output file\n",
    "prepared_dataset_file = open(\"dataset_prepared.csv\", \"w\")\n",
    "prepared_dataset = csv.writer(prepared_dataset_file)"
   ]
  },
  {
   "cell_type": "code",
   "execution_count": null,
   "metadata": {},
   "outputs": [],
   "source": [
    "# load each row, add month, write to prepared dataset\n",
    "random_number = 1\n",
    "receipt_number = \"1\"\n",
    "\n",
    "for row in raw_dataset:\n",
    "    if receipt_number != row[0]:\n",
    "        random_number = random.randint(1, 12)\n",
    "        receipt_number = row[0]\n",
    "        \n",
    "    row.append(random_number)\n",
    "    prepared_dataset.writerow(row)\n",
    "    print(row)\n",
    "    "
   ]
  },
  {
   "cell_type": "code",
   "execution_count": 72,
   "metadata": {},
   "outputs": [],
   "source": [
    "# close the files\n",
    "raw_dataset_file.close()\n",
    "prepared_dataset_file.close()"
   ]
  },
  {
   "cell_type": "code",
   "execution_count": null,
   "metadata": {},
   "outputs": [],
   "source": []
  }
 ],
 "metadata": {
  "kernelspec": {
   "display_name": "Python 3",
   "language": "python",
   "name": "python3"
  },
  "language_info": {
   "codemirror_mode": {
    "name": "ipython",
    "version": 3
   },
   "file_extension": ".py",
   "mimetype": "text/x-python",
   "name": "python",
   "nbconvert_exporter": "python",
   "pygments_lexer": "ipython3",
   "version": "3.5.3"
  }
 },
 "nbformat": 4,
 "nbformat_minor": 2
}

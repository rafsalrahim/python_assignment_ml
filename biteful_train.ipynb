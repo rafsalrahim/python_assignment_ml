{
 "cells": [
  {
   "cell_type": "code",
   "execution_count": 10,
   "metadata": {
    "scrolled": true
   },
   "outputs": [],
   "source": [
    "# get serious stuff\n",
    "import csv\n",
    "import numpy as np\n",
    "import pandas as pd\n",
    "from sklearn import neighbors\n",
    "import pickle"
   ]
  },
  {
   "cell_type": "code",
   "execution_count": 11,
   "metadata": {
    "scrolled": true
   },
   "outputs": [],
   "source": [
    "# read dataset\n",
    "dataset_frame = pd.read_csv(\"favorita_prepared.csv\", low_memory = True, dtype=object)"
   ]
  },
  {
   "cell_type": "code",
   "execution_count": 12,
   "metadata": {},
   "outputs": [],
   "source": [
    "# prepare numpy arrays for prediction\n",
    "x_frame = dataset_frame[['A', 'B', 'C', 'D', 'E']]\n",
    "y_frame = dataset_frame['F']\n",
    "\n",
    "x_np = x_frame.values\n",
    "y_np = y_frame.values"
   ]
  },
  {
   "cell_type": "code",
   "execution_count": 13,
   "metadata": {},
   "outputs": [],
   "source": [
    "# train using input dataset\n",
    "no_of_neighbors = 15\n",
    "classifier = neighbors.KNeighborsClassifier().fit(x_np, y_np)"
   ]
  },
  {
   "cell_type": "code",
   "execution_count": 14,
   "metadata": {},
   "outputs": [],
   "source": [
    "# store the trained model\n",
    "model_dump = pickle.dumps(classifier)\n",
    "model_dump_file = open('model_dump', 'wb')\n",
    "\n",
    "pickle.dump(model_dump, model_dump_file)\n",
    "model_dump_file.close()"
   ]
  },
  {
   "cell_type": "code",
   "execution_count": null,
   "metadata": {},
   "outputs": [],
   "source": []
  }
 ],
 "metadata": {
  "kernelspec": {
   "display_name": "Python 3",
   "language": "python",
   "name": "python3"
  },
  "language_info": {
   "codemirror_mode": {
    "name": "ipython",
    "version": 3
   },
   "file_extension": ".py",
   "mimetype": "text/x-python",
   "name": "python",
   "nbconvert_exporter": "python",
   "pygments_lexer": "ipython3",
   "version": "3.5.3"
  }
 },
 "nbformat": 4,
 "nbformat_minor": 2
}
